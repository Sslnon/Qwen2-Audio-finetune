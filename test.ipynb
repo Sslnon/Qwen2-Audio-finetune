{
 "cells": [
  {
   "cell_type": "code",
   "execution_count": null,
   "metadata": {},
   "outputs": [
    {
     "ename": "",
     "evalue": "",
     "output_type": "error",
     "traceback": [
      "\u001b[1;31m运行具有“slam-llm (Python 3.10.15)”的单元格需要ipykernel包。\n",
      "\u001b[1;31m运行以下命令，将 \"ipykernel\" 安装到 Python 环境中。\n",
      "\u001b[1;31m命令: \"conda install -n slam-llm ipykernel --update-deps --force-reinstall\""
     ]
    }
   ],
   "source": [
    "from torch.nn.utils.rnn import pad_sequence\n",
    "# 假设我们有三个序列，长度分别为 3, 2, 1\n",
    "seq1 = torch.tensor([1, 2, 3])\n",
    "seq2 = torch.tensor([4, 5])\n",
    "seq3 = torch.tensor([6])\n",
    "# 将这些序列放入一个列表中\n",
    "sequences = [seq1, seq2, seq3]\n",
    "# 使用 pad_sequence 将序列填充到相同长度\n",
    "# 这里我们选择 batch_first=True，使得输出张量的第一个维度是批次大小\n",
    "padded_seqs = pad_sequence(sequences, batch_first=True, padding_value=0)"
   ]
  }
 ],
 "metadata": {
  "kernelspec": {
   "display_name": "slam-llm",
   "language": "python",
   "name": "python3"
  },
  "language_info": {
   "name": "python",
   "version": "3.10.15"
  }
 },
 "nbformat": 4,
 "nbformat_minor": 2
}
